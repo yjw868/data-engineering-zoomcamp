{
 "cells": [
  {
   "cell_type": "code",
   "execution_count": 1,
   "metadata": {},
   "outputs": [
    {
     "name": "stderr",
     "output_type": "stream",
     "text": [
      "OpenBLAS WARNING - could not determine the L2 cache size on this system, assuming 256k\n"
     ]
    }
   ],
   "source": [
    "import pyspark\n",
    "from pyspark.sql import SparkSession"
   ]
  },
  {
   "cell_type": "code",
   "execution_count": 2,
   "metadata": {},
   "outputs": [
    {
     "name": "stderr",
     "output_type": "stream",
     "text": [
      "Setting default log level to \"WARN\".\n",
      "To adjust logging level use sc.setLogLevel(newLevel). For SparkR, use setLogLevel(newLevel).\n"
     ]
    },
    {
     "name": "stdout",
     "output_type": "stream",
     "text": [
      "23/02/26 21:19:48 WARN NativeCodeLoader: Unable to load native-hadoop library for your platform... using builtin-java classes where applicable\n"
     ]
    }
   ],
   "source": [
    "spark = SparkSession.builder \\\n",
    "    .master(\"local[*]\") \\\n",
    "    .appName('test') \\\n",
    "    .getOrCreate()"
   ]
  },
  {
   "cell_type": "code",
   "execution_count": 3,
   "metadata": {},
   "outputs": [],
   "source": [
    "import pandas as pd"
   ]
  },
  {
   "cell_type": "code",
   "execution_count": 4,
   "metadata": {},
   "outputs": [],
   "source": [
    "from pyspark.sql import types"
   ]
  },
  {
   "cell_type": "code",
   "execution_count": 29,
   "metadata": {},
   "outputs": [],
   "source": [
    "green_schema = types.StructType([\n",
    "    types.StructField(\"VendorID\", types.IntegerType(), True),\n",
    "    types.StructField(\"lpep_pickup_datetime\", types.TimestampType(), True),\n",
    "    types.StructField(\"lpep_dropoff_datetime\", types.TimestampType(), True),\n",
    "    types.StructField(\"store_and_fwd_flag\", types.StringType(), True),\n",
    "    types.StructField(\"RatecodeID\", types.IntegerType(), True),\n",
    "    types.StructField(\"PULocationID\", types.IntegerType(), True),\n",
    "    types.StructField(\"DOLocationID\", types.IntegerType(), True),\n",
    "    types.StructField(\"passenger_count\", types.IntegerType(), True),\n",
    "    types.StructField(\"trip_distance\", types.DoubleType(), True),\n",
    "    types.StructField(\"fare_amount\", types.DoubleType(), True),\n",
    "    types.StructField(\"extra\", types.DoubleType(), True),\n",
    "    types.StructField(\"mta_tax\", types.DoubleType(), True),\n",
    "    types.StructField(\"tip_amount\", types.DoubleType(), True),\n",
    "    types.StructField(\"tolls_amount\", types.DoubleType(), True),\n",
    "    types.StructField(\"ehail_fee\", types.DoubleType(), True),\n",
    "    types.StructField(\"improvement_surcharge\", types.DoubleType(), True),\n",
    "    types.StructField(\"total_amount\", types.DoubleType(), True),\n",
    "    types.StructField(\"payment_type\", types.IntegerType(), True),\n",
    "    types.StructField(\"trip_type\", types.IntegerType(), True),\n",
    "    types.StructField(\"congestion_surcharge\", types.DoubleType(), True)\n",
    "])\n",
    "\n",
    "yellow_schema = types.StructType([\n",
    "    types.StructField(\"VendorID\", types.IntegerType(), True),\n",
    "    types.StructField(\"tpep_pickup_datetime\", types.TimestampType(), True),\n",
    "    types.StructField(\"tpep_dropoff_datetime\", types.TimestampType(), True),\n",
    "    types.StructField(\"passenger_count\", types.IntegerType(), True),\n",
    "    types.StructField(\"trip_distance\", types.DoubleType(), True),\n",
    "    types.StructField(\"RatecodeID\", types.IntegerType(), True),\n",
    "    types.StructField(\"store_and_fwd_flag\", types.StringType(), True),\n",
    "    types.StructField(\"PULocationID\", types.IntegerType(), True),\n",
    "    types.StructField(\"DOLocationID\", types.IntegerType(), True),\n",
    "    types.StructField(\"payment_type\", types.IntegerType(), True),\n",
    "    types.StructField(\"fare_amount\", types.DoubleType(), True),\n",
    "    types.StructField(\"extra\", types.DoubleType(), True),\n",
    "    types.StructField(\"mta_tax\", types.DoubleType(), True),\n",
    "    types.StructField(\"tip_amount\", types.DoubleType(), True),\n",
    "    types.StructField(\"tolls_amount\", types.DoubleType(), True),\n",
    "    types.StructField(\"improvement_surcharge\", types.DoubleType(), True),\n",
    "    types.StructField(\"total_amount\", types.DoubleType(), True),\n",
    "    types.StructField(\"congestion_surcharge\", types.DoubleType(), True)\n",
    "])"
   ]
  },
  {
   "cell_type": "code",
   "execution_count": 52,
   "metadata": {},
   "outputs": [
    {
     "name": "stdout",
     "output_type": "stream",
     "text": [
      "processing data for 2020/1\n"
     ]
    },
    {
     "name": "stderr",
     "output_type": "stream",
     "text": [
      "                                                                                \r"
     ]
    },
    {
     "name": "stdout",
     "output_type": "stream",
     "text": [
      "processing data for 2020/2\n"
     ]
    },
    {
     "name": "stderr",
     "output_type": "stream",
     "text": [
      "                                                                                \r"
     ]
    },
    {
     "name": "stdout",
     "output_type": "stream",
     "text": [
      "processing data for 2020/3\n"
     ]
    },
    {
     "name": "stderr",
     "output_type": "stream",
     "text": [
      "                                                                                \r"
     ]
    },
    {
     "name": "stdout",
     "output_type": "stream",
     "text": [
      "processing data for 2020/4\n"
     ]
    },
    {
     "name": "stderr",
     "output_type": "stream",
     "text": [
      "\r\n",
      "[Stage 23:=============================>                            (2 + 2) / 4]\r\n",
      "\r\n",
      "                                                                                \r"
     ]
    },
    {
     "name": "stdout",
     "output_type": "stream",
     "text": [
      "processing data for 2020/5\n"
     ]
    },
    {
     "name": "stderr",
     "output_type": "stream",
     "text": [
      "\r\n",
      "[Stage 26:===========================================>              (3 + 1) / 4]\r\n",
      "\r\n",
      "                                                                                \r"
     ]
    },
    {
     "name": "stdout",
     "output_type": "stream",
     "text": [
      "processing data for 2020/6\n"
     ]
    },
    {
     "name": "stderr",
     "output_type": "stream",
     "text": [
      "\r\n",
      "[Stage 29:===========================================>              (3 + 1) / 4]\r\n",
      "\r\n",
      "                                                                                \r"
     ]
    },
    {
     "name": "stdout",
     "output_type": "stream",
     "text": [
      "processing data for 2020/7\n"
     ]
    },
    {
     "name": "stderr",
     "output_type": "stream",
     "text": [
      "\r\n",
      "[Stage 32:=============================>                            (2 + 2) / 4]\r\n",
      "\r\n",
      "                                                                                \r"
     ]
    },
    {
     "name": "stdout",
     "output_type": "stream",
     "text": [
      "processing data for 2020/8\n"
     ]
    },
    {
     "name": "stderr",
     "output_type": "stream",
     "text": [
      "\r\n",
      "[Stage 35:=============================>                            (2 + 2) / 4]\r\n",
      "\r\n",
      "                                                                                \r"
     ]
    },
    {
     "name": "stdout",
     "output_type": "stream",
     "text": [
      "processing data for 2020/9\n"
     ]
    },
    {
     "name": "stderr",
     "output_type": "stream",
     "text": [
      "\r\n",
      "[Stage 38:=============================>                            (2 + 2) / 4]\r\n",
      "\r\n",
      "                                                                                \r"
     ]
    },
    {
     "name": "stdout",
     "output_type": "stream",
     "text": [
      "processing data for 2020/10\n"
     ]
    },
    {
     "name": "stderr",
     "output_type": "stream",
     "text": [
      "                                                                                \r"
     ]
    },
    {
     "name": "stdout",
     "output_type": "stream",
     "text": [
      "processing data for 2020/11\n"
     ]
    },
    {
     "name": "stderr",
     "output_type": "stream",
     "text": [
      "\r\n",
      "[Stage 44:=============================>                            (2 + 2) / 4]\r\n",
      "\r\n",
      "                                                                                \r"
     ]
    },
    {
     "name": "stdout",
     "output_type": "stream",
     "text": [
      "processing data for 2020/12\n"
     ]
    },
    {
     "name": "stderr",
     "output_type": "stream",
     "text": [
      "\r\n",
      "[Stage 47:=============================>                            (2 + 2) / 4]\r\n",
      "\r\n",
      "                                                                                \r"
     ]
    }
   ],
   "source": [
    "year = 2020\n",
    "\n",
    "for month in range(1, 13):\n",
    "    print(f'processing data for {year}/{month}')\n",
    "\n",
    "    input_path = f'../data/raw/green/{year}/{month:02d}/green_tripdata_{year}_{month:02d}.csv.gz'\n",
    "    output_path = f'../data/pq/green/{year}/{month:02d}/'\n",
    "\n",
    "    df_green = spark.read \\\n",
    "        .option(\"header\", \"true\") \\\n",
    "        .schema(green_schema) \\\n",
    "        .csv(input_path)\n",
    "\n",
    "    df_green \\\n",
    "        .repartition(4) \\\n",
    "        .write.parquet(f\"../data/{output_path}\")"
   ]
  },
  {
   "cell_type": "code",
   "execution_count": 46,
   "metadata": {},
   "outputs": [],
   "source": [
    "input_path='/opt/data/raw/green/2021/01/green_tripdata_2021-01.csv.gz'"
   ]
  },
  {
   "cell_type": "code",
   "execution_count": 47,
   "metadata": {},
   "outputs": [],
   "source": [
    "df_green_tmp = spark.read \\\n",
    "        .option(\"header\", \"true\") \\\n",
    "        .option(\"delimiter\", \",\") \\\n",
    "        .schema(green_schema) \\\n",
    "        .csv(input_path)"
   ]
  },
  {
   "cell_type": "code",
   "execution_count": 40,
   "metadata": {},
   "outputs": [
    {
     "name": "stdout",
     "output_type": "stream",
     "text": [
      "root\n",
      " |-- VendorID: integer (nullable = true)\n",
      " |-- lpep_pickup_datetime: timestamp (nullable = true)\n",
      " |-- lpep_dropoff_datetime: timestamp (nullable = true)\n",
      " |-- store_and_fwd_flag: string (nullable = true)\n",
      " |-- RatecodeID: integer (nullable = true)\n",
      " |-- PULocationID: integer (nullable = true)\n",
      " |-- DOLocationID: integer (nullable = true)\n",
      " |-- passenger_count: integer (nullable = true)\n",
      " |-- trip_distance: double (nullable = true)\n",
      " |-- fare_amount: double (nullable = true)\n",
      " |-- extra: double (nullable = true)\n",
      " |-- mta_tax: double (nullable = true)\n",
      " |-- tip_amount: double (nullable = true)\n",
      " |-- tolls_amount: double (nullable = true)\n",
      " |-- ehail_fee: double (nullable = true)\n",
      " |-- improvement_surcharge: double (nullable = true)\n",
      " |-- total_amount: double (nullable = true)\n",
      " |-- payment_type: integer (nullable = true)\n",
      " |-- trip_type: integer (nullable = true)\n",
      " |-- congestion_surcharge: double (nullable = true)\n",
      "\n"
     ]
    }
   ],
   "source": [
    "df_green_tmp.printSchema()"
   ]
  },
  {
   "cell_type": "code",
   "execution_count": 49,
   "metadata": {
    "scrolled": false
   },
   "outputs": [
    {
     "name": "stdout",
     "output_type": "stream",
     "text": [
      "+--------+--------------------+---------------------+------------------+----------+------------+------------+---------------+-------------+-----------+-----+-------+----------+------------+---------+---------------------+------------+------------+---------+--------------------+\n",
      "|VendorID|lpep_pickup_datetime|lpep_dropoff_datetime|store_and_fwd_flag|RatecodeID|PULocationID|DOLocationID|passenger_count|trip_distance|fare_amount|extra|mta_tax|tip_amount|tolls_amount|ehail_fee|improvement_surcharge|total_amount|payment_type|trip_type|congestion_surcharge|\n",
      "+--------+--------------------+---------------------+------------------+----------+------------+------------+---------------+-------------+-----------+-----+-------+----------+------------+---------+---------------------+------------+------------+---------+--------------------+\n",
      "|       2| 2021-01-01 00:15:56|  2021-01-01 00:19:52|                 N|         1|          43|         151|              1|         1.01|        5.5|  0.5|    0.5|       0.0|         0.0|     null|                  0.3|         6.8|           2|        1|                 0.0|\n",
      "|       2| 2021-01-01 00:25:59|  2021-01-01 00:34:44|                 N|         1|         166|         239|              1|         2.53|       10.0|  0.5|    0.5|      2.81|         0.0|     null|                  0.3|       16.86|           1|        1|                2.75|\n",
      "|       2| 2021-01-01 00:45:57|  2021-01-01 00:51:55|                 N|         1|          41|          42|              1|         1.12|        6.0|  0.5|    0.5|       1.0|         0.0|     null|                  0.3|         8.3|           1|        1|                 0.0|\n",
      "|       2| 2020-12-31 23:57:51|  2021-01-01 00:04:56|                 N|         1|         168|          75|              1|         1.99|        8.0|  0.5|    0.5|       0.0|         0.0|     null|                  0.3|         9.3|           2|        1|                 0.0|\n",
      "|       2| 2021-01-01 00:16:36|  2021-01-01 00:16:40|                 N|         2|         265|         265|              3|          0.0|      -52.0|  0.0|   -0.5|       0.0|         0.0|     null|                 -0.3|       -52.8|           3|        1|                 0.0|\n",
      "|       2| 2021-01-01 00:16:36|  2021-01-01 00:16:40|                 N|         2|         265|         265|              3|          0.0|       52.0|  0.0|    0.5|       0.0|         0.0|     null|                  0.3|        52.8|           2|        1|                 0.0|\n",
      "|       2| 2021-01-01 00:19:14|  2021-01-01 00:19:21|                 N|         5|         265|         265|              1|          0.0|      180.0|  0.0|    0.0|     36.06|         0.0|     null|                  0.3|      216.36|           1|        2|                 0.0|\n",
      "|       2| 2021-01-01 00:26:31|  2021-01-01 00:28:50|                 N|         1|          75|          75|              6|         0.45|        3.5|  0.5|    0.5|      0.96|         0.0|     null|                  0.3|        5.76|           1|        1|                 0.0|\n",
      "|       2| 2021-01-01 00:57:46|  2021-01-01 00:57:57|                 N|         1|         225|         225|              1|          0.0|        2.5|  0.5|    0.5|       0.0|         0.0|     null|                  0.3|         3.8|           2|        1|                 0.0|\n",
      "|       2| 2021-01-01 00:58:32|  2021-01-01 01:32:34|                 N|         1|         225|         265|              1|        12.19|       38.0|  0.5|    0.5|      2.75|         0.0|     null|                  0.3|       42.05|           1|        1|                 0.0|\n",
      "|       2| 2021-01-01 00:31:14|  2021-01-01 00:55:07|                 N|         1|         244|         244|              2|         3.39|       18.0|  0.5|    0.5|       0.0|         0.0|     null|                  0.3|        19.3|           2|        1|                 0.0|\n",
      "|       2| 2021-01-01 00:08:50|  2021-01-01 00:21:56|                 N|         1|          75|         213|              1|         6.69|       19.5|  0.5|    0.5|       0.0|         0.0|     null|                  0.3|        20.8|           2|        1|                 0.0|\n",
      "|       2| 2021-01-01 00:35:13|  2021-01-01 00:44:44|                 N|         1|          74|         238|              1|         2.34|       10.0|  0.5|    0.5|       0.0|         0.0|     null|                  0.3|       14.05|           1|        1|                2.75|\n",
      "|       2| 2021-01-01 00:39:57|  2021-01-01 00:55:25|                 N|         1|          74|          60|              1|         5.48|       18.0|  0.5|    0.5|       0.0|         0.0|     null|                  0.3|        19.3|           2|        1|                 0.0|\n",
      "|       1| 2021-01-01 00:51:27|  2021-01-01 00:57:20|                 N|         1|          42|          41|              2|          0.9|        6.0|  0.5|    0.5|       0.0|         0.0|     null|                  0.3|         7.3|           1|        1|                 0.0|\n",
      "|       2| 2021-01-01 00:29:05|  2021-01-01 00:29:07|                 N|         5|          42|         264|              1|          0.0|       10.0|  0.0|    0.0|      2.06|         0.0|     null|                  0.3|       12.36|           1|        2|                 0.0|\n",
      "|       2| 2021-01-01 00:32:07|  2021-01-01 00:42:54|                 N|         1|          74|         116|              1|         2.08|        9.5|  0.5|    0.5|      2.16|         0.0|     null|                  0.3|       12.96|           1|        1|                 0.0|\n",
      "|       2| 2021-01-01 00:49:59|  2021-01-01 01:05:01|                 N|         1|         116|         143|              1|         4.64|       16.5|  0.5|    0.5|      5.14|         0.0|     null|                  0.3|       25.69|           1|        1|                2.75|\n",
      "|       2| 2021-01-01 00:07:20|  2021-01-01 00:12:01|                 N|         1|          75|          42|              1|         1.68|        6.5|  0.5|    0.5|       0.0|         0.0|     null|                  0.3|         7.8|           2|        1|                 0.0|\n",
      "|       2| 2021-01-01 00:25:54|  2021-01-01 00:28:20|                 N|         1|          74|          75|              1|         0.68|        4.0|  0.5|    0.5|       0.0|         0.0|     null|                  0.3|         5.3|           2|        1|                 0.0|\n",
      "|       2| 2021-01-01 00:15:51|  2021-01-01 00:30:34|                 N|         1|           7|          82|              5|          2.7|       12.0|  0.5|    0.5|       0.0|         0.0|     null|                  0.3|        13.3|           1|        1|                 0.0|\n",
      "|       2| 2021-01-01 00:21:09|  2021-01-01 01:06:01|                 N|         1|         152|         117|              1|        29.07|       77.5|  0.5|    0.5|       0.0|        6.12|     null|                  0.3|       84.92|           2|        1|                 0.0|\n",
      "|       2| 2021-01-01 00:42:25|  2021-01-01 00:43:06|                 N|         1|          82|          82|              1|          0.0|        2.5|  0.5|    0.5|       8.0|         0.0|     null|                  0.3|        11.8|           1|        1|                 0.0|\n",
      "|       2| 2021-01-01 00:51:52|  2021-01-01 01:06:13|                 N|         1|         116|          74|              1|         2.78|       12.0|  0.5|    0.5|       0.0|         0.0|     null|                  0.3|        13.3|           2|        1|                 0.0|\n",
      "|       2| 2021-01-01 00:23:19|  2021-01-01 00:34:03|                 N|         1|         116|          69|              3|         2.25|       10.0|  0.5|    0.5|       0.0|         0.0|     null|                  0.3|        11.3|           2|        1|                 0.0|\n",
      "|       1| 2021-01-01 00:56:41|  2021-01-01 01:13:31|                 N|         1|         259|         116|              1|          0.0|       28.2|  0.0|    0.5|       0.0|         0.0|     null|                  0.3|        29.0|           1|        1|                 0.0|\n",
      "|       2| 2021-01-01 00:50:23|  2021-01-01 00:55:11|                 N|         1|         247|         167|              1|         1.03|        5.5|  0.5|    0.5|       0.0|         0.0|     null|                  0.3|         6.8|           1|        1|                 0.0|\n",
      "|       2| 2021-01-01 00:15:41|  2021-01-01 00:18:57|                 N|         1|         166|          41|              1|         0.65|        4.5|  0.5|    0.5|       0.0|         0.0|     null|                  0.3|         5.8|           1|        1|                 0.0|\n",
      "|       2| 2021-01-01 00:30:34|  2021-01-01 00:43:14|                 N|         1|          74|         119|              1|         2.51|       11.5|  0.5|    0.5|      2.56|         0.0|     null|                  0.3|       15.36|           1|        1|                 0.0|\n",
      "|       2| 2021-01-01 00:39:40|  2021-01-01 01:05:04|                 N|         1|          17|         107|              1|         7.57|       25.5|  0.5|    0.5|      7.39|         0.0|     null|                  0.3|       36.94|           1|        1|                2.75|\n",
      "|       2| 2021-01-01 00:35:29|  2021-01-01 00:55:15|                 N|         5|          74|         247|              1|         3.64|       13.0|  0.0|    0.0|       0.0|         0.0|     null|                  0.3|        13.3|           2|        2|                 0.0|\n",
      "|       2| 2021-01-01 00:28:19|  2021-01-01 00:32:16|                 N|         1|          74|          74|              1|         0.63|        5.0|  0.5|    0.5|       0.0|         0.0|     null|                  0.3|         6.3|           2|        1|                 0.0|\n",
      "|       1| 2021-01-01 01:45:34|  2021-01-01 01:59:16|                 N|         1|         173|          56|              1|          1.5|       10.5|  0.5|    0.5|      2.75|         2.0|     null|                  0.3|       16.55|           1|        1|                 0.0|\n",
      "|       2| 2021-01-01 01:27:19|  2021-01-01 01:36:40|                 N|         1|         152|         239|              1|         2.83|       10.5|  0.5|    0.5|       0.0|         0.0|     null|                  0.3|       14.55|           2|        1|                2.75|\n",
      "|       2| 2021-01-01 01:06:08|  2021-01-01 01:25:52|                 N|         1|          41|         233|              1|         5.03|       17.5|  0.5|    0.5|       0.0|         0.0|     null|                  0.3|       21.55|           1|        1|                2.75|\n",
      "|       2| 2021-01-01 01:30:03|  2021-01-01 01:42:03|                 N|         1|          42|         119|              1|         3.13|       11.5|  0.5|    0.5|       1.1|         0.0|     null|                  0.3|        13.9|           1|        1|                 0.0|\n",
      "|       2| 2021-01-01 01:06:34|  2021-01-01 01:15:26|                 N|         1|           7|         260|              6|         2.24|        9.0|  0.5|    0.5|       0.0|         0.0|     null|                  0.3|        10.3|           2|        1|                 0.0|\n",
      "|       2| 2021-01-01 01:22:08|  2021-01-01 01:31:45|                 N|         1|          47|          42|              1|         2.11|        9.0|  0.5|    0.5|       0.0|         0.0|     null|                  0.3|        10.3|           2|        1|                 0.0|\n",
      "|       1| 2021-01-01 01:27:22|  2021-01-01 01:36:01|                 N|         1|          75|          24|              1|          1.6|        8.0|  0.5|    0.5|       0.0|         0.0|     null|                  0.3|         9.3|           2|        1|                 0.0|\n",
      "|       2| 2021-01-01 01:46:44|  2021-01-01 01:51:56|                 N|         1|          41|         166|              1|         0.77|        5.5|  0.5|    0.5|      2.04|         0.0|     null|                  0.3|        8.84|           1|        1|                 0.0|\n",
      "|       2| 2021-01-01 01:45:45|  2021-01-01 01:54:47|                 N|         1|         179|           7|              1|         1.46|        8.0|  0.5|    0.5|       0.0|         0.0|     null|                  0.3|         9.3|           2|        1|                 0.0|\n",
      "|       2| 2021-01-01 01:40:49|  2021-01-01 01:54:21|                 N|         1|           7|         159|              5|         5.19|       17.0|  0.5|    0.5|       0.0|        6.12|     null|                  0.3|       24.42|           1|        1|                 0.0|\n",
      "|       2| 2021-01-01 01:03:41|  2021-01-01 01:30:43|                 N|         1|          95|         145|              1|        10.05|       31.5|  0.5|    0.5|       0.0|         0.0|     null|                  0.3|        32.8|           1|        1|                 0.0|\n",
      "|       2| 2021-01-01 23:12:41|  2021-01-02 01:13:53|                 N|         5|          95|          82|              1|          0.0|        9.7|  0.0|    0.0|       2.0|         0.0|     null|                  0.3|        12.0|           1|        2|                 0.0|\n",
      "|       2| 2021-01-01 01:20:10|  2021-01-01 01:23:04|                 N|         1|         236|         238|              1|         0.77|        4.5|  0.5|    0.5|       0.0|         0.0|     null|                  0.3|         5.8|           2|        1|                 0.0|\n",
      "|       2| 2021-01-01 01:49:29|  2021-01-01 01:49:33|                 N|         5|         244|         244|              5|         0.02|       12.0|  0.0|    0.0|      2.46|         0.0|     null|                  0.3|       14.76|           1|        2|                 0.0|\n",
      "|       1| 2021-01-01 01:30:50|  2021-01-01 01:49:33|                 N|         1|          65|         225|              2|          4.1|       16.0|  0.5|    0.5|      3.45|         0.0|     null|                  0.3|       20.75|           1|        1|                 0.0|\n",
      "|       2| 2021-01-01 01:07:45|  2021-01-01 01:13:57|                 N|         1|         166|         151|              1|         1.07|        6.5|  0.5|    0.5|      1.56|         0.0|     null|                  0.3|        9.36|           1|        1|                 0.0|\n",
      "|       1| 2021-01-01 01:39:30|  2021-01-01 02:01:50|                 N|         1|         247|          13|              1|          0.0|       36.2|  0.0|    0.5|       0.0|         0.0|     null|                  0.3|        37.0|           1|        1|                 0.0|\n",
      "|       1| 2021-01-01 01:01:59|  2021-01-01 01:10:50|                 N|         1|          14|          14|              0|          0.0|        6.5|  0.5|    0.5|       0.0|         0.0|     null|                  0.3|         7.8|           2|        1|                 0.0|\n",
      "|       2| 2021-01-01 01:04:25|  2021-01-01 01:17:37|                 N|         1|          74|         168|              1|         2.86|       12.0|  0.5|    0.5|       0.0|         0.0|     null|                  0.3|        13.3|           1|        1|                 0.0|\n",
      "|       2| 2021-01-01 01:54:13|  2021-01-01 02:12:35|                 N|         1|         235|         167|              1|         3.56|       14.0|  0.5|    0.5|      3.06|         0.0|     null|                  0.3|       18.36|           1|        1|                 0.0|\n",
      "|       2| 2021-01-01 00:57:52|  2021-01-01 01:00:30|                 N|         1|         116|          42|              1|         0.59|        4.0|  0.5|    0.5|       0.0|         0.0|     null|                  0.3|         5.3|           2|        1|                 0.0|\n",
      "|       2| 2021-01-01 01:54:51|  2021-01-01 02:15:35|                 N|         5|          74|          94|              1|         5.82|       18.0|  0.0|    0.0|       0.0|         0.0|     null|                  0.3|        18.3|           2|        2|                 0.0|\n",
      "|       2| 2021-01-01 02:07:27|  2021-01-01 02:18:09|                 N|         1|          41|         143|              1|          2.2|       10.0|  0.5|    0.5|       0.0|         0.0|     null|                  0.3|       14.05|           2|        1|                2.75|\n",
      "|       2| 2021-01-01 02:09:05|  2021-01-01 02:15:23|                 N|         1|          75|         141|              1|         1.96|        7.5|  0.5|    0.5|       2.0|         0.0|     null|                  0.3|       13.55|           1|        1|                2.75|\n",
      "|       2| 2021-01-01 02:27:53|  2021-01-01 02:57:11|                 N|         1|          74|         232|              1|          8.7|       30.0|  0.5|    0.5|       0.0|         0.0|     null|                  0.3|       34.05|           2|        1|                2.75|\n",
      "|       2| 2021-01-01 02:18:14|  2021-01-01 02:26:28|                 N|         1|         168|          74|              1|         2.14|        9.0|  0.5|    0.5|       0.0|         0.0|     null|                  0.3|        10.3|           2|        1|                 0.0|\n",
      "|       1| 2021-01-01 02:08:51|  2021-01-01 02:37:27|                 N|         1|          37|         167|              1|          0.0|       34.2|  0.0|    0.5|       0.0|        6.12|     null|                  0.3|       41.12|           1|        1|                 0.0|\n",
      "|       1| 2021-01-01 02:45:15|  2021-01-01 02:59:07|                 N|         1|         167|          78|              1|          0.0|       14.2|  0.0|    0.5|       0.0|         0.0|     null|                  0.3|        15.0|           1|        1|                 0.0|\n",
      "|       2| 2021-01-01 02:28:37|  2021-01-01 02:36:09|                 N|         1|         256|          17|              1|          1.3|        7.5|  0.5|    0.5|       0.0|         0.0|     null|                  0.3|         8.8|           2|        1|                 0.0|\n",
      "|       2| 2021-01-01 02:46:42|  2021-01-01 03:03:38|                 N|         1|         256|         164|              1|         5.83|       19.5|  0.5|    0.5|       0.0|         0.0|     null|                  0.3|       23.55|           2|        1|                2.75|\n",
      "|       2| 2021-01-01 02:10:44|  2021-01-01 02:10:57|                 N|         1|          28|          28|              1|          0.0|        2.5|  0.5|    0.5|      10.0|         0.0|     null|                  0.3|        13.8|           1|        1|                 0.0|\n",
      "|       2| 2021-01-01 02:32:32|  2021-01-01 02:45:33|                 N|         1|          42|         142|              2|         4.69|       15.0|  0.5|    0.5|       0.0|         0.0|     null|                  0.3|       19.05|           2|        1|                2.75|\n",
      "|       2| 2021-01-01 02:56:25|  2021-01-01 03:03:05|                 N|         1|          75|          42|              1|         2.01|        8.0|  0.5|    0.5|       0.0|         0.0|     null|                  0.3|         9.3|           2|        1|                 0.0|\n",
      "|       2| 2021-01-01 02:39:04|  2021-01-01 02:42:39|                 N|         1|         129|         129|              1|         0.43|        4.0|  0.5|    0.5|       0.0|         0.0|     null|                  0.3|         5.3|           2|        1|                 0.0|\n",
      "|       2| 2021-01-01 02:36:06|  2021-01-01 02:40:06|                 N|         1|          41|          42|              6|         0.95|        5.0|  0.5|    0.5|       0.0|         0.0|     null|                  0.3|         6.3|           2|        1|                 0.0|\n",
      "|       2| 2021-01-01 02:09:59|  2021-01-01 02:22:06|                 N|         1|         167|         212|              1|         2.73|       11.0|  0.5|    0.5|       0.0|         0.0|     null|                  0.3|        12.3|           2|        1|                 0.0|\n",
      "|       2| 2021-01-01 02:52:38|  2021-01-01 03:00:49|                 N|         1|          74|          75|              1|         1.55|        7.5|  0.5|    0.5|       0.0|         0.0|     null|                  0.3|         8.8|           2|        1|                 0.0|\n",
      "|       2| 2021-01-01 02:42:49|  2021-01-01 02:50:59|                 N|         5|         136|         241|              1|         0.57|        9.0|  0.0|    0.0|       0.0|         0.0|     null|                  0.3|         9.3|           2|        2|                 0.0|\n",
      "|       2| 2021-01-01 03:23:00|  2021-01-01 03:35:59|                 N|         1|          41|         142|              5|         3.52|       13.0|  0.5|    0.5|       0.0|         0.0|     null|                  0.3|       17.05|           2|        1|                2.75|\n",
      "|       1| 2021-01-01 03:08:15|  2021-01-01 03:08:33|                 N|         1|          78|          78|              1|          0.0|        0.0|  0.0|    0.0|       0.0|         0.0|     null|                  0.0|         0.0|           3|        1|                 0.0|\n",
      "|       1| 2021-01-01 03:21:45|  2021-01-01 03:37:03|                 N|         1|          69|          42|              1|          0.0|       14.2|  0.0|    0.5|       0.0|         0.0|     null|                  0.3|        15.0|           1|        1|                 0.0|\n",
      "|       2| 2021-01-01 03:38:59|  2021-01-01 03:58:21|                 N|         1|         112|          97|              6|         5.09|       19.5|  0.5|    0.5|       0.0|         0.0|     null|                  0.3|        20.8|           2|        1|                 0.0|\n",
      "|       2| 2021-01-01 03:26:06|  2021-01-01 03:40:53|                 N|         1|         116|         136|              1|         4.76|       17.0|  0.5|    0.5|       0.0|         0.0|     null|                  0.3|        18.3|           2|        1|                 0.0|\n",
      "|       2| 2021-01-01 03:53:54|  2021-01-01 04:16:21|                 N|         1|         179|         249|              1|         6.67|       22.0|  0.5|    0.5|      4.83|        6.12|     null|                  0.3|        37.0|           1|        1|                2.75|\n",
      "|       2| 2021-01-01 03:18:04|  2021-01-01 03:33:06|                 N|         1|          75|         248|              1|         6.25|       19.0|  0.5|    0.5|       0.0|         0.0|     null|                  0.3|        20.3|           2|        1|                 0.0|\n",
      "|       2| 2021-01-01 03:23:04|  2021-01-01 03:24:31|                 N|         1|         119|         119|              1|         0.09|        3.0|  0.5|    0.5|       0.0|         0.0|     null|                  0.3|         4.3|           2|        1|                 0.0|\n",
      "|       2| 2021-01-01 03:31:06|  2021-01-01 04:14:49|                 N|         1|         119|          55|              1|        28.26|       75.5|  0.5|    0.5|      2.75|        6.12|     null|                  0.3|       85.67|           1|        1|                 0.0|\n",
      "|       2| 2021-01-01 03:05:05|  2021-01-01 03:05:08|                 N|         5|          32|         264|              3|          0.0|        7.0|  0.0|    0.0|       0.0|         0.0|     null|                  0.3|         7.3|           1|        2|                 0.0|\n",
      "|       2| 2021-01-01 03:36:46|  2021-01-01 04:03:25|                 N|         1|          42|          50|              1|         9.18|       29.5|  0.5|    0.5|      6.71|         0.0|     null|                  0.3|       40.26|           1|        1|                2.75|\n",
      "|       1| 2021-01-01 03:07:21|  2021-01-01 03:22:10|                 N|         1|         250|          41|              1|          0.0|       22.2|  0.0|    0.5|       0.0|         0.0|     null|                  0.3|        23.0|           1|        1|                 0.0|\n",
      "|       1| 2021-01-01 03:35:40|  2021-01-01 03:52:28|                 N|         1|          75|          94|              1|          0.0|       24.2|  0.0|    0.5|       0.0|         0.0|     null|                  0.3|        25.0|           1|        1|                 0.0|\n",
      "|       2| 2021-01-01 03:20:33|  2021-01-01 03:25:45|                 N|         1|          42|         244|              1|         1.01|        6.0|  0.5|    0.5|       0.7|         0.0|     null|                  0.3|         8.0|           1|        1|                 0.0|\n",
      "|       2| 2021-01-01 03:52:41|  2021-01-01 03:57:54|                 N|         1|          41|          42|              1|         1.22|        6.0|  0.5|    0.5|       0.0|         0.0|     null|                  0.3|         7.3|           2|        1|                 0.0|\n",
      "|       2| 2021-01-01 03:09:15|  2021-01-01 03:15:17|                 N|         1|          75|          74|              1|         1.18|        6.0|  0.5|    0.5|       0.0|         0.0|     null|                  0.3|         7.3|           2|        1|                 0.0|\n",
      "|       2| 2021-01-01 03:22:51|  2021-01-01 03:31:51|                 N|         1|          74|         140|              1|         3.61|       12.5|  0.5|    0.5|      3.31|         0.0|     null|                  0.3|       19.86|           1|        1|                2.75|\n",
      "|       2| 2021-01-01 04:39:08|  2021-01-01 04:43:14|                 N|         1|          42|          42|              1|         0.62|        5.0|  0.5|    0.5|       0.0|         0.0|     null|                  0.3|         6.3|           2|        1|                 0.0|\n",
      "|       2| 2021-01-01 04:52:02|  2021-01-01 05:05:01|                 N|         5|         247|          75|              1|         3.43|       15.0|  0.0|    0.0|       0.0|         0.0|     null|                  0.3|        15.3|           2|        2|                 0.0|\n",
      "|       2| 2021-01-01 04:32:23|  2021-01-01 04:33:19|                 N|         1|          42|          41|              1|          0.3|        3.0|  0.5|    0.5|       0.0|         0.0|     null|                  0.3|         4.3|           1|        1|                 0.0|\n",
      "|       2| 2021-01-01 04:11:28|  2021-01-02 03:40:53|                 N|         1|         116|          81|              1|         10.8|       32.0|  0.5|    0.5|       0.0|         0.0|     null|                  0.3|        33.3|           1|        1|                 0.0|\n",
      "|       2| 2021-01-01 04:55:33|  2021-01-01 04:55:43|                 N|         5|         159|         159|              1|          0.0|       30.0|  0.0|    0.0|       3.0|         0.0|     null|                  0.3|        33.3|           1|        2|                 0.0|\n",
      "|       2| 2021-01-01 04:09:00|  2021-01-01 04:17:08|                 N|         1|          95|         134|              1|         1.65|        8.0|  0.5|    0.5|      1.86|         0.0|     null|                  0.3|       11.16|           1|        1|                 0.0|\n",
      "|       2| 2021-01-01 04:45:36|  2021-01-01 04:51:15|                 N|         1|          74|          41|              1|         1.03|        6.0|  0.5|    0.5|      10.0|         0.0|     null|                  0.3|        17.3|           1|        1|                 0.0|\n",
      "|       1| 2021-01-01 04:24:35|  2021-01-01 04:33:20|                 N|         1|         248|         169|              1|          0.0|       17.2|  0.0|    0.5|       0.0|         0.0|     null|                  0.3|        18.0|           1|        1|                 0.0|\n",
      "|       2| 2021-01-01 05:54:40|  2021-01-01 05:58:07|                 N|         1|          43|         236|              1|         0.64|        4.5|  0.5|    0.5|       2.0|         0.0|     null|                  0.3|       10.55|           1|        1|                2.75|\n",
      "|       2| 2021-01-01 05:52:43|  2021-01-01 05:58:02|                 N|         5|           7|           7|              1|         0.65|       50.0|  0.0|    0.0|       7.0|         0.0|     null|                  0.3|        57.3|           1|        2|                 0.0|\n",
      "|       2| 2021-01-01 05:34:35|  2021-01-01 05:47:16|                 N|         1|          75|         167|              1|         3.66|       13.0|  0.5|    0.5|       0.0|         0.0|     null|                  0.3|        14.3|           2|        1|                 0.0|\n",
      "|       2| 2021-01-01 05:21:41|  2021-01-01 05:44:10|                 N|         5|          82|         263|              1|         6.32|      22.63|  0.0|    0.0|      3.42|         0.0|     null|                  0.3|        29.1|           1|        1|                2.75|\n",
      "|       2| 2021-01-01 05:57:21|  2021-01-01 05:58:37|                 N|         5|         152|         152|              1|          0.1|       15.0|  0.0|    0.0|       0.0|         0.0|     null|                  0.3|        15.3|           2|        2|                 0.0|\n",
      "+--------+--------------------+---------------------+------------------+----------+------------+------------+---------------+-------------+-----------+-----+-------+----------+------------+---------+---------------------+------------+------------+---------+--------------------+\n",
      "only showing top 100 rows\n",
      "\n"
     ]
    }
   ],
   "source": [
    "df_green_tmp.show(100)"
   ]
  },
  {
   "cell_type": "code",
   "execution_count": 54,
   "metadata": {},
   "outputs": [
    {
     "name": "stdout",
     "output_type": "stream",
     "text": [
      "processing data for 2021/1\n"
     ]
    },
    {
     "name": "stderr",
     "output_type": "stream",
     "text": [
      "                                                                                \r"
     ]
    },
    {
     "name": "stdout",
     "output_type": "stream",
     "text": [
      "processing data for 2021/2\n"
     ]
    },
    {
     "name": "stderr",
     "output_type": "stream",
     "text": [
      "\r\n",
      "[Stage 53:=============================>                            (2 + 2) / 4]\r\n",
      "\r\n",
      "                                                                                \r"
     ]
    },
    {
     "name": "stdout",
     "output_type": "stream",
     "text": [
      "processing data for 2021/3\n"
     ]
    },
    {
     "name": "stderr",
     "output_type": "stream",
     "text": [
      "\r\n",
      "[Stage 56:=============================>                            (2 + 2) / 4]\r\n",
      "\r\n",
      "                                                                                \r"
     ]
    },
    {
     "name": "stdout",
     "output_type": "stream",
     "text": [
      "processing data for 2021/4\n"
     ]
    },
    {
     "name": "stderr",
     "output_type": "stream",
     "text": [
      "                                                                                \r"
     ]
    },
    {
     "name": "stdout",
     "output_type": "stream",
     "text": [
      "processing data for 2021/5\n"
     ]
    },
    {
     "name": "stderr",
     "output_type": "stream",
     "text": [
      "                                                                                \r"
     ]
    },
    {
     "name": "stdout",
     "output_type": "stream",
     "text": [
      "processing data for 2021/6\n"
     ]
    },
    {
     "name": "stderr",
     "output_type": "stream",
     "text": [
      "                                                                                \r"
     ]
    },
    {
     "name": "stdout",
     "output_type": "stream",
     "text": [
      "processing data for 2021/7\n"
     ]
    },
    {
     "name": "stderr",
     "output_type": "stream",
     "text": [
      "                                                                                \r"
     ]
    }
   ],
   "source": [
    "year = 2021\n",
    "\n",
    "for month in range(1, 8):\n",
    "    print(f'processing data for {year}/{month}')\n",
    "\n",
    "    input_path = f'../data/raw/green/{year}/{month:02d}/green_tripdata_{year}_{month:02d}.csv.gz'\n",
    "    output_path = f'../data/pq/green/{year}/{month:02d}/'\n",
    "\n",
    "    df_green = spark.read \\\n",
    "        .option(\"header\", \"true\") \\\n",
    "        .schema(green_schema) \\\n",
    "        .csv(input_path)\n",
    "\n",
    "    df_green \\\n",
    "        .repartition(4) \\\n",
    "        .write.parquet(f\"../data/{output_path}\")"
   ]
  },
  {
   "cell_type": "code",
   "execution_count": null,
   "metadata": {},
   "outputs": [],
   "source": []
  },
  {
   "cell_type": "code",
   "execution_count": null,
   "metadata": {},
   "outputs": [],
   "source": []
  },
  {
   "cell_type": "code",
   "execution_count": null,
   "metadata": {},
   "outputs": [],
   "source": []
  }
 ],
 "metadata": {
  "kernelspec": {
   "display_name": "venv",
   "language": "python",
   "name": "python3"
  },
  "language_info": {
   "codemirror_mode": {
    "name": "ipython",
    "version": 3
   },
   "file_extension": ".py",
   "mimetype": "text/x-python",
   "name": "python",
   "nbconvert_exporter": "python",
   "pygments_lexer": "ipython3",
   "version": "3.9.13"
  },
  "vscode": {
   "interpreter": {
    "hash": "9ede1328087224b2902b65d1e908b9214163214ddeb1d4cac48e9d96f023e0ea"
   }
  }
 },
 "nbformat": 4,
 "nbformat_minor": 2
}
