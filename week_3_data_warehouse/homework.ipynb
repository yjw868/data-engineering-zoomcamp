{
 "cells": [
  {
   "cell_type": "code",
   "execution_count": 33,
   "metadata": {},
   "outputs": [
    {
     "name": "stdout",
     "output_type": "stream",
     "text": [
      "Service Account KEY: /Users/ywang/.config/gcloud/pacific-card-374422-5e253ea4302a.json\n"
     ]
    }
   ],
   "source": [
    "import os\n",
    "from google.cloud import bigquery\n",
    "from dotenv import load_dotenv\n",
    "load_dotenv()\n",
    "print(\"Service Account KEY:\", os.environ['GOOGLE_APPLICATION_CREDENTIALS'])"
   ]
  },
  {
   "cell_type": "code",
   "execution_count": 2,
   "metadata": {},
   "outputs": [],
   "source": [
    "client = bigquery.Client()"
   ]
  },
  {
   "cell_type": "code",
   "execution_count": 14,
   "metadata": {},
   "outputs": [],
   "source": [
    "def qry_bg(query:str):\n",
    "    query_job = client.query(query)\n",
    "    for row in query_job.result():\n",
    "        print(f\"Answer is: {row[0]}\")"
   ]
  },
  {
   "cell_type": "code",
   "execution_count": 34,
   "metadata": {},
   "outputs": [],
   "source": [
    "create_ext_table_qry =\"\"\"\n",
    "                    CREATE OR REPLACE EXTERNAL TABLE `pacific-card-374422.dezoomcamp.external_fhv_tripdata`\n",
    "                    OPTIONS (\n",
    "                    format = 'PARQUET',\n",
    "                    uris = ['gs://prefect-de-zoomcamp-2/data/fhv/fhv_tripdata_2019-*.parquet']\n",
    "                    )\n",
    "                    \"\"\"\n",
    "                    \n",
    "create_table_qry = \"\"\"\n",
    "                    create or replace table `pacific-card-374422.dezoomcamp.fhv_tripdata` as  \n",
    "                    select * from `pacific-card-374422.dezoomcamp.external_fhv_tripdata`; \n",
    "                    \"\"\""
   ]
  },
  {
   "cell_type": "code",
   "execution_count": 35,
   "metadata": {},
   "outputs": [
    {
     "data": {
      "text/plain": [
       "<google.cloud.bigquery.table._EmptyRowIterator at 0x131aa3ac0>"
      ]
     },
     "execution_count": 35,
     "metadata": {},
     "output_type": "execute_result"
    }
   ],
   "source": [
    "# Create external table\n",
    "client.query(create_ext_table_qry).result()"
   ]
  },
  {
   "cell_type": "code",
   "execution_count": 36,
   "metadata": {},
   "outputs": [
    {
     "data": {
      "text/plain": [
       "<google.cloud.bigquery.table._EmptyRowIterator at 0x131a38e20>"
      ]
     },
     "execution_count": 36,
     "metadata": {},
     "output_type": "execute_result"
    }
   ],
   "source": [
    "# Create materialize table\n",
    "client.query(create_table_qry).result()"
   ]
  },
  {
   "cell_type": "code",
   "execution_count": 37,
   "metadata": {},
   "outputs": [
    {
     "name": "stdout",
     "output_type": "stream",
     "text": [
      "Answer is: 43244696\n"
     ]
    }
   ],
   "source": [
    "# Question 1\n",
    "q1_qry=\"\"\"select count(*) from pacific-card-374422.dezoomcamp.external_fhv_tripdata;\"\"\"\n",
    "qry_bg(q1_qry)"
   ]
  },
  {
   "cell_type": "code",
   "execution_count": 38,
   "metadata": {},
   "outputs": [
    {
     "name": "stdout",
     "output_type": "stream",
     "text": [
      "Answer is: 3163\n"
     ]
    }
   ],
   "source": [
    "# Question 2\n",
    "q2_p1_qry=\"\"\"select count(distinct(affiliated_base_number)) from pacific-card-374422.dezoomcamp.external_fhv_tripdata;\"\"\"\n",
    "qry_bg(q2_p1_qry)"
   ]
  },
  {
   "cell_type": "code",
   "execution_count": 39,
   "metadata": {},
   "outputs": [
    {
     "name": "stdout",
     "output_type": "stream",
     "text": [
      "Answer is: 3163\n"
     ]
    }
   ],
   "source": [
    "# Question 2 Bytes processed 317.94 MB\n",
    "q2_p2_qry=\"\"\"select count(distinct(affiliated_base_number)) from pacific-card-374422.dezoomcamp.fhv_tripdata;\"\"\"\n",
    "qry_bg(q2_p2_qry)"
   ]
  },
  {
   "cell_type": "code",
   "execution_count": 40,
   "metadata": {},
   "outputs": [
    {
     "name": "stdout",
     "output_type": "stream",
     "text": [
      "Answer is: 717748\n"
     ]
    }
   ],
   "source": [
    "# Question 3\n",
    "q3_qry=\"\"\"select count(*) from pacific-card-374422.dezoomcamp.fhv_tripdata\n",
    "            where PUlocationID is NULL and DOlocationID is NULL ;\"\"\"\n",
    "qry_bg(q3_qry)"
   ]
  },
  {
   "cell_type": "markdown",
   "metadata": {},
   "source": [
    "# Question 4\n",
    "\n",
    "Partition by pickup_datetime Cluster on affiliated_base_number"
   ]
  },
  {
   "cell_type": "code",
   "execution_count": 42,
   "metadata": {},
   "outputs": [
    {
     "data": {
      "text/plain": [
       "<google.cloud.bigquery.table._EmptyRowIterator at 0x131ad05e0>"
      ]
     },
     "execution_count": 42,
     "metadata": {},
     "output_type": "execute_result"
    }
   ],
   "source": [
    "# Question 5\n",
    "q5_qry=\"\"\"CREATE OR REPLACE TABLE `pacific-card-374422.dezoomcamp.fhv_tripdata_pc`\n",
    "        PARTITION BY DATE(pickup_datetime)                                         \n",
    "        CLUSTER BY affiliated_base_number AS                                                        \n",
    "        SELECT * FROM `pacific-card-374422.dezoomcamp.fhv_tripdata`;\"\"\"\n",
    "client.query(q5_qry).result()"
   ]
  },
  {
   "cell_type": "code",
   "execution_count": 45,
   "metadata": {},
   "outputs": [
    {
     "name": "stdout",
     "output_type": "stream",
     "text": [
      "Answer is: 724\n"
     ]
    }
   ],
   "source": [
    "# Question 5 Bytes processed 647.87 MB\n",
    "q5_normal_qry=\"\"\"                                                        \n",
    "        SELECT COUNT(DISTINCT affiliated_base_number) as affiliated_base_numbers FROM `pacific-card-374422.dezoomcamp.fhv_tripdata`\n",
    "        WHERE DATE(pickup_datetime) BETWEEN '2019-03-01' AND '2019-03-31';\"\"\"\n",
    "qry_bg(q5_normal_qry)"
   ]
  },
  {
   "cell_type": "code",
   "execution_count": 46,
   "metadata": {},
   "outputs": [
    {
     "name": "stdout",
     "output_type": "stream",
     "text": [
      "Answer is: 724\n"
     ]
    }
   ],
   "source": [
    "# Question 5 Bytes processed 23.05 MB\n",
    "q5_pc_qry=\"\"\"                                                        \n",
    "        SELECT COUNT(DISTINCT affiliated_base_number) as affiliated_base_numbers FROM `pacific-card-374422.dezoomcamp.fhv_tripdata_pc`\n",
    "        WHERE DATE(pickup_datetime) BETWEEN '2019-03-01' AND '2019-03-31';\"\"\"\n",
    "qry_bg(q5_pc_qry)"
   ]
  },
  {
   "cell_type": "markdown",
   "metadata": {},
   "source": [
    "# Question 6\n",
    "- GCP Bucket"
   ]
  },
  {
   "cell_type": "code",
   "execution_count": null,
   "metadata": {},
   "outputs": [],
   "source": [
    "# Question 7\n",
    "- False"
   ]
  }
 ],
 "metadata": {
  "kernelspec": {
   "display_name": "venv",
   "language": "python",
   "name": "python3"
  },
  "language_info": {
   "codemirror_mode": {
    "name": "ipython",
    "version": 3
   },
   "file_extension": ".py",
   "mimetype": "text/x-python",
   "name": "python",
   "nbconvert_exporter": "python",
   "pygments_lexer": "ipython3",
   "version": "3.9.13"
  },
  "orig_nbformat": 4,
  "vscode": {
   "interpreter": {
    "hash": "9ede1328087224b2902b65d1e908b9214163214ddeb1d4cac48e9d96f023e0ea"
   }
  }
 },
 "nbformat": 4,
 "nbformat_minor": 2
}
